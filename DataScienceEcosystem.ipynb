{
 "cells": [
  {
   "cell_type": "markdown",
   "id": "e4133512-db27-4007-a82b-71c07ef50bea",
   "metadata": {},
   "source": [
    "# Data Science Tools and Ecosystem"
   ]
  },
  {
   "cell_type": "markdown",
   "id": "c5b633a7-0f6d-4a0d-8c77-8c495266f42a",
   "metadata": {},
   "source": [
    "In this notebook, Data Science Tools and Ecosystem are summarized."
   ]
  },
  {
   "cell_type": "markdown",
   "id": "f2fc7f59-91f3-47ec-9ac5-8f8b1463a7e8",
   "metadata": {},
   "source": [
    "**Objectives**\n",
    "\n",
    "* List popular languages for Data Science\n",
    "* List Popular libraries used by Data Scientists\n",
    "* Graph of Data Science Tools\n",
    "* Examples For arithmetic expressions in Python"
   ]
  },
  {
   "cell_type": "markdown",
   "id": "1033147e-ed67-416b-8eb0-fbc46b67f5d5",
   "metadata": {},
   "source": [
    "Some of the popular languages that Data Scientists use are:"
   ]
  },
  {
   "cell_type": "markdown",
   "id": "c0ab9a5d-6060-40b3-b660-0b36e33611e8",
   "metadata": {},
   "source": [
    "1. Python\n",
    "2. R\n",
    "3. SQL\n",
    "4. Julia"
   ]
  },
  {
   "cell_type": "markdown",
   "id": "038f287e-023c-4c39-947d-3e5589e6e2a5",
   "metadata": {},
   "source": [
    "Some of the commonly used libraries used by Data Scientists include:"
   ]
  },
  {
   "cell_type": "markdown",
   "id": "54cd3469-ffe9-4b99-ba20-5bd2ac479e80",
   "metadata": {},
   "source": [
    "1. Numpy\n",
    "2. Pandas\n",
    "3. Matpotlib"
   ]
  },
  {
   "cell_type": "markdown",
   "id": "be9f4a30-93ad-400e-a816-974a04f29f8d",
   "metadata": {},
   "source": [
    "|Data Science Tools|\n",
    "|------------------|\n",
    "|Jupyter Notebooks|\n",
    "|RStuio|\n",
    "|Apache Zeppelin|\n"
   ]
  },
  {
   "cell_type": "markdown",
   "id": "b356c0e9-dcaa-4cb1-9230-5160e13d9ff3",
   "metadata": {},
   "source": [
    "### Below are a few examples of evaluating arithmetic expressions in Python"
   ]
  },
  {
   "cell_type": "code",
   "execution_count": 1,
   "id": "0b924afa-73f4-4e73-986b-b11fac8cbc9d",
   "metadata": {
    "tags": []
   },
   "outputs": [],
   "source": [
    "# This a simple arithmetic expression to mutiply then add integers."
   ]
  },
  {
   "cell_type": "code",
   "execution_count": 2,
   "id": "6c2780ce-dae4-40af-9d9a-349e705954cc",
   "metadata": {
    "tags": []
   },
   "outputs": [
    {
     "data": {
      "text/plain": [
       "17"
      ]
     },
     "execution_count": 2,
     "metadata": {},
     "output_type": "execute_result"
    }
   ],
   "source": [
    "(3*4)+5"
   ]
  },
  {
   "cell_type": "code",
   "execution_count": 4,
   "id": "c149fe63-1707-4b0d-9e53-fd92d221ba00",
   "metadata": {
    "tags": []
   },
   "outputs": [],
   "source": [
    "# This will convert 200 minutes to hours by diving by 60."
   ]
  },
  {
   "cell_type": "code",
   "execution_count": 5,
   "id": "eab3fff4-362b-494c-9c6f-58f2188fa722",
   "metadata": {
    "tags": []
   },
   "outputs": [
    {
     "data": {
      "text/plain": [
       "3.3333333333333335"
      ]
     },
     "execution_count": 5,
     "metadata": {},
     "output_type": "execute_result"
    }
   ],
   "source": [
    "200 /60"
   ]
  },
  {
   "cell_type": "markdown",
   "id": "de2f46b8-4fc7-4aa7-bebe-47d478c37cee",
   "metadata": {},
   "source": [
    "## Author\n",
    "Dinusha Fernando"
   ]
  },
  {
   "cell_type": "code",
   "execution_count": null,
   "id": "f5def52c-8419-436a-9d9b-11b480a69b22",
   "metadata": {},
   "outputs": [],
   "source": []
  }
 ],
 "metadata": {
  "kernelspec": {
   "display_name": "Python",
   "language": "python",
   "name": "conda-env-python-py"
  },
  "language_info": {
   "codemirror_mode": {
    "name": "ipython",
    "version": 3
   },
   "file_extension": ".py",
   "mimetype": "text/x-python",
   "name": "python",
   "nbconvert_exporter": "python",
   "pygments_lexer": "ipython3",
   "version": "3.7.12"
  }
 },
 "nbformat": 4,
 "nbformat_minor": 5
}
